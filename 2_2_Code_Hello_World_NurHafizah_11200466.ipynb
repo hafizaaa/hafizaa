{
 "cells": [
  {
   "cell_type": "code",
   "execution_count": 1,
   "id": "0daeb501",
   "metadata": {},
   "outputs": [
    {
     "name": "stdout",
     "output_type": "stream",
     "text": [
      "Hello World\n"
     ]
    }
   ],
   "source": [
    "print (\"Hello World\")"
   ]
  },
  {
   "cell_type": "code",
   "execution_count": 2,
   "id": "d4a3ec13",
   "metadata": {},
   "outputs": [
    {
     "name": "stdout",
     "output_type": "stream",
     "text": [
      "Hello World\n",
      "6\n"
     ]
    }
   ],
   "source": [
    "print (\"Hello World\")\n",
    "print(5+1)"
   ]
  },
  {
   "cell_type": "code",
   "execution_count": 3,
   "id": "05eaacd2",
   "metadata": {},
   "outputs": [
    {
     "name": "stdout",
     "output_type": "stream",
     "text": [
      "6\n"
     ]
    }
   ],
   "source": [
    "print( (10*2+5) "
   ]
  },
  {
   "cell_type": "code",
   "execution_count": 5,
   "id": "82049993",
   "metadata": {},
   "outputs": [
    {
     "name": "stdout",
     "output_type": "stream",
     "text": [
      "2023 Aku kaya mulia\n"
     ]
    }
   ],
   "source": [
    "print  (\"2023 Aku kaya mulia\")"
   ]
  },
  {
   "cell_type": "code",
   "execution_count": 8,
   "id": "ad90b7e9",
   "metadata": {},
   "outputs": [
    {
     "name": "stdout",
     "output_type": "stream",
     "text": [
      "Nurhafizah\n"
     ]
    }
   ],
   "source": [
    "print (\"Nurhafizah\")"
   ]
  }
 ],
 "metadata": {
  "kernelspec": {
   "display_name": "Python 3 (ipykernel)",
   "language": "python",
   "name": "python3"
  },
  "language_info": {
   "codemirror_mode": {
    "name": "ipython",
    "version": 3
   },
   "file_extension": ".py",
   "mimetype": "text/x-python",
   "name": "python",
   "nbconvert_exporter": "python",
   "pygments_lexer": "ipython3",
   "version": "3.10.0"
  }
 },
 "nbformat": 4,
 "nbformat_minor": 5
}
